{
 "cells": [
  {
   "cell_type": "code",
   "execution_count": null,
   "metadata": {},
   "outputs": [],
   "source": [
    "class Distribution:\n",
    "    \n",
    "    def __init__(self, mu=0, sigma=1):\n",
    "        \"\"\"Generic distribution class for calculating and \n",
    "        visualizing a probability distribution.\n",
    "        \n",
    "        Attributes:\n",
    "            mean (float) represents the mean value of the distribution\n",
    "            stdev (float) represents the standard deviation of the distribution\n",
    "            data_list (list of floats) a list of floats extracted from the data file\n",
    "        \"\"\"\n",
    "        \n",
    "        self.mean = mu\n",
    "        self.stdev = sigma\n",
    "        self.data = []\n",
    "        \n",
    "    def read_data_file(self, file_name):\n",
    "        \"\"\"Function to read in data from text file. The text file should have \n",
    "        one number (float) per line. The numbers are stored in the data attribute.\n",
    "        \n",
    "        Args: \n",
    "            file_name (string): name of a file to read from\n",
    "            \n",
    "        Returns:\n",
    "            None\n",
    "        \"\"\"\n",
    "        \n",
    "        with open(file_name) as file:"
   ]
  }
 ],
 "metadata": {
  "kernelspec": {
   "display_name": "Python 3",
   "language": "python",
   "name": "python3"
  },
  "language_info": {
   "codemirror_mode": {
    "name": "ipython",
    "version": 3
   },
   "file_extension": ".py",
   "mimetype": "text/x-python",
   "name": "python",
   "nbconvert_exporter": "python",
   "pygments_lexer": "ipython3",
   "version": "3.7.6"
  },
  "varInspector": {
   "cols": {
    "lenName": 16,
    "lenType": 16,
    "lenVar": 40
   },
   "kernels_config": {
    "python": {
     "delete_cmd_postfix": "",
     "delete_cmd_prefix": "del ",
     "library": "var_list.py",
     "varRefreshCmd": "print(var_dic_list())"
    },
    "r": {
     "delete_cmd_postfix": ") ",
     "delete_cmd_prefix": "rm(",
     "library": "var_list.r",
     "varRefreshCmd": "cat(var_dic_list()) "
    }
   },
   "types_to_exclude": [
    "module",
    "function",
    "builtin_function_or_method",
    "instance",
    "_Feature"
   ],
   "window_display": false
  }
 },
 "nbformat": 4,
 "nbformat_minor": 4
}
