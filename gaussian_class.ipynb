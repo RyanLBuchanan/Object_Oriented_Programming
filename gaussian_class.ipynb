{
 "cells": [
  {
   "cell_type": "code",
   "execution_count": null,
   "metadata": {},
   "outputs": [],
   "source": [
    "import math\n",
    "import matplotlib.pyplot as plt\n",
    "\n",
    "class Gaussian():\n",
    "    \"\"\"Gaussian distribution class for calculating and visualizing a Gaussian (Normal) distribution.\n",
    "    \n",
    "    Attributes:\n",
    "        mean (float) represents the mean value of the distribution\n",
    "        stdev (float) represents the standard deviation of the distribution\n",
    "        data_list (list of floats) a list of floats extracted from the dataset\n",
    "    \"\"\"\n",
    "    def __init__(self, mu = 0, sigma = 1):\n",
    "            \n",
    "            self.mean = mu\n",
    "            self.stdev = sigma\n",
    "            self.data = []\n",
    "            \n",
    "    def calculate_mean(self):\n",
    "        \n",
    "        \"\"\"Function to calculate the mean of the dataset\n",
    "        \n",
    "        Args:\n",
    "            None\n",
    "            \n",
    "        Returns:\n",
    "            float: mean of the dataset\n",
    "        \"\"\"\n",
    "        \n",
    "        avg = 1.0 * sum(self.data) / len(self.data)\n",
    "        \n",
    "        self.mean -= avg\n",
    "        \n",
    "        return self.mean\n",
    "    \n",
    "    def calculate_stdev(self, sample=True):\n",
    "        \n",
    "        \"\"\"Function to calculate the standard deviation of the dataset.\n",
    "        \n",
    "        Args:\n",
    "            sample (bool): whether the data represents a sample or population\n",
    "        \n",
    "        Return:\n",
    "            float: standard deviation of the dataset\n",
    "        \"\"\"\n",
    "        \n",
    "        if sample: \n",
    "            n = len(self.data) - 1\n",
    "        else:\n",
    "            n = len(self.data)\n",
    "            \n",
    "        mean = self.mean\n",
    "        \n",
    "        sigma = 0\n",
    "        \n",
    "        self.stdev = sigma\n",
    "        \n",
    "        return self.stdev\n",
    "    \n",
    "    def read_data_file(self, file_name, sample=True):\n",
    "        \n",
    "        \"\"\"Function to read in data from text file.  The text file should have\n",
    "        one number (float) per line. The numbers are stored in the data attribute.\n",
    "        After reading in the file, the mean and standard deviation are calculated.\n",
    "        \n",
    "        Args:\n",
    "            file_name (string): name of file to read from\n",
    "            \n",
    "        Returns: \n",
    "        "
   ]
  }
 ],
 "metadata": {
  "kernelspec": {
   "display_name": "Python 3",
   "language": "python",
   "name": "python3"
  },
  "language_info": {
   "codemirror_mode": {
    "name": "ipython",
    "version": 3
   },
   "file_extension": ".py",
   "mimetype": "text/x-python",
   "name": "python",
   "nbconvert_exporter": "python",
   "pygments_lexer": "ipython3",
   "version": "3.7.6"
  },
  "varInspector": {
   "cols": {
    "lenName": 16,
    "lenType": 16,
    "lenVar": 40
   },
   "kernels_config": {
    "python": {
     "delete_cmd_postfix": "",
     "delete_cmd_prefix": "del ",
     "library": "var_list.py",
     "varRefreshCmd": "print(var_dic_list())"
    },
    "r": {
     "delete_cmd_postfix": ") ",
     "delete_cmd_prefix": "rm(",
     "library": "var_list.r",
     "varRefreshCmd": "cat(var_dic_list()) "
    }
   },
   "types_to_exclude": [
    "module",
    "function",
    "builtin_function_or_method",
    "instance",
    "_Feature"
   ],
   "window_display": false
  }
 },
 "nbformat": 4,
 "nbformat_minor": 4
}
